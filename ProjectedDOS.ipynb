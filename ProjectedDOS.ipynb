{
 "cells": [
  {
   "cell_type": "code",
   "execution_count": 12,
   "metadata": {},
   "outputs": [],
   "source": [
    "#Projected DOS\n",
    "import os\n",
    "import numpy as np\n",
    "from glob import glob\n",
    "direc=\"/Users/christopherkeegan/Documents/phd-project/Calculations/LBMAO/LaU/Relaxed/qe/pdos\""
   ]
  },
  {
   "cell_type": "code",
   "execution_count": 16,
   "metadata": {},
   "outputs": [
    {
     "data": {
      "text/plain": [
       "['La2MgO4_HTT_0.scf.out',\n",
       " 'La2MgO4_HTT_16.nscf.out',\n",
       " 'La2MgO4_HTT_16.scf.out',\n",
       " 'La2MgO4_HTT_20.scf.out',\n",
       " 'La2MgO4_HTT_8.pdos_O_p.dat',\n",
       " 'La2MgO4_HTT_8.scf.out',\n",
       " 'La2MgO4_HTT_12.projwfc.out',\n",
       " 'La2MgO4_HTT_8.pdos_O_s.dat',\n",
       " 'La2MgO4_HTT_20.projwfc.out',\n",
       " 'La2MgO4_HTT_8.nscf.out',\n",
       " 'La2MgO4_HTT_12.pdos_Mg_s.dat',\n",
       " 'La2MgO4_HTT_16.pdos_O_p.dat',\n",
       " 'La2MgO4_HTT_20.pdos_O_s.dat',\n",
       " 'La2MgO4_HTT_8.projwfc.out',\n",
       " 'La2MgO4_HTT_16.pdos_Mg_s.dat',\n",
       " 'La2MgO4_HTT_4.nscf.out',\n",
       " 'La2MgO4_HTT_12.pdos_Mg_p.dat',\n",
       " 'La2MgO4_HTT_16.pdos_O_s.dat',\n",
       " 'La2MgO4_HTT_20.pdos_O_p.dat',\n",
       " 'La2MgO4_HTT_16.pdos_Mg_p.dat',\n",
       " 'La2MgO4_HTT_4.pdos_O_s.dat',\n",
       " 'La2MgO4_HTT_0.pdos_La_f.dat',\n",
       " 'La2MgO4_HTT_8.pdos_Mg_s.dat',\n",
       " 'La2MgO4_HTT_4.pdos_La_p.dat',\n",
       " 'La2MgO4_HTT_4.pdos_La_f.dat',\n",
       " 'La2MgO4_HTT_0.pdos_La_p.dat',\n",
       " 'La2MgO4_HTT_20.pdos_La_s.dat',\n",
       " 'La2MgO4_HTT_4.projwfc.out',\n",
       " 'La2MgO4_HTT_20.pdos_La_d.dat',\n",
       " 'La2MgO4_HTT_4.pdos_O_p.dat',\n",
       " 'La2MgO4_HTT_20.pdos_La_f.dat',\n",
       " 'La2MgO4_HTT_8.pdos_Mg_p.dat',\n",
       " 'La2MgO4_HTT_4.pdos_La_d.dat',\n",
       " 'La2MgO4_HTT_4.pdos_La_s.dat',\n",
       " 'La2MgO4_HTT_0.pdos_La_s.dat',\n",
       " 'La2MgO4_HTT_0.pdos_La_d.dat',\n",
       " 'La2MgO4_HTT_20.pdos_La_p.dat',\n",
       " 'La2MgO4_HTT_12.pdos_O_p.dat',\n",
       " 'La2MgO4_HTT_0.nscf.out',\n",
       " 'La2MgO4_HTT_12.pdos_O_s.dat',\n",
       " 'La2MgO4_HTT_20.nscf.out',\n",
       " 'La2MgO4_HTT_0.pdos_O_s.dat',\n",
       " 'La2MgO4_HTT_16.projwfc.out',\n",
       " 'La2MgO4_HTT_0.pdos_O_p.dat',\n",
       " 'La2MgO4_HTT_20.pdos_Mg_p.dat',\n",
       " 'La2MgO4_HTT_0.pdos_Mg_s.dat',\n",
       " 'La2MgO4_HTT_12.scf.out',\n",
       " 'La2MgO4_HTT_8.pdos_La_f.dat',\n",
       " 'La2MgO4_HTT_4.pdos_Mg_s.dat',\n",
       " 'La2MgO4_HTT_8.pdos_La_p.dat',\n",
       " 'La2MgO4_HTT_4.scf.out',\n",
       " 'La2MgO4_HTT_20.pdos_Mg_s.dat',\n",
       " 'La2MgO4_HTT_0.pdos_Mg_p.dat',\n",
       " 'La2MgO4_HTT_12.nscf.out',\n",
       " 'La2MgO4_HTT_8.pdos_La_d.dat',\n",
       " 'La2MgO4_HTT_4.pdos_Mg_p.dat',\n",
       " 'La2MgO4_HTT_8.pdos_La_s.dat',\n",
       " 'La2MgO4_HTT_0.projwfc.out',\n",
       " 'La2MgO4_HTT_12.pdos_La_f.dat',\n",
       " 'La2MgO4_HTT_16.pdos_La_p.dat',\n",
       " 'La2MgO4_HTT_16.pdos_La_f.dat',\n",
       " 'La2MgO4_HTT_12.pdos_La_p.dat',\n",
       " 'La2MgO4_HTT_16.pdos_La_s.dat',\n",
       " 'La2MgO4_HTT_16.pdos_La_d.dat',\n",
       " 'La2MgO4_HTT_12.pdos_La_d.dat',\n",
       " 'La2MgO4_HTT_12.pdos_La_s.dat']"
      ]
     },
     "execution_count": 16,
     "metadata": {},
     "output_type": "execute_result"
    }
   ],
   "source": [
    "os.chdir(direc)\n",
    "seed = \"La2MgO4_HTT_0\"\n",
    "os.listdir('.')"
   ]
  },
  {
   "cell_type": "code",
   "execution_count": 17,
   "metadata": {},
   "outputs": [
    {
     "name": "stdout",
     "output_type": "stream",
     "text": [
      "['La2MgO4_HTT_0.pdos_La_f.dat', 'La2MgO4_HTT_0.pdos_La_p.dat', 'La2MgO4_HTT_0.pdos_La_s.dat', 'La2MgO4_HTT_0.pdos_La_d.dat', 'La2MgO4_HTT_0.pdos_O_s.dat', 'La2MgO4_HTT_0.pdos_O_p.dat', 'La2MgO4_HTT_0.pdos_Mg_s.dat', 'La2MgO4_HTT_0.pdos_Mg_p.dat']\n"
     ]
    }
   ],
   "source": [
    "files = glob(\"{}.pdos_*.dat\".format(seed))\n",
    "print(files)"
   ]
  },
  {
   "cell_type": "code",
   "execution_count": null,
   "metadata": {},
   "outputs": [],
   "source": []
  },
  {
   "cell_type": "code",
   "execution_count": null,
   "metadata": {},
   "outputs": [],
   "source": []
  }
 ],
 "metadata": {
  "kernelspec": {
   "display_name": "Python 3",
   "language": "python",
   "name": "python3"
  },
  "language_info": {
   "codemirror_mode": {
    "name": "ipython",
    "version": 3
   },
   "file_extension": ".py",
   "mimetype": "text/x-python",
   "name": "python",
   "nbconvert_exporter": "python",
   "pygments_lexer": "ipython3",
   "version": "3.9.1"
  }
 },
 "nbformat": 4,
 "nbformat_minor": 4
}
